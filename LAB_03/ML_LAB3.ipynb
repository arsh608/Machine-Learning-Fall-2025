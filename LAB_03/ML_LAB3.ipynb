{
  "nbformat": 4,
  "nbformat_minor": 0,
  "metadata": {
    "colab": {
      "provenance": []
    },
    "kernelspec": {
      "name": "python3",
      "display_name": "Python 3"
    },
    "language_info": {
      "name": "python"
    }
  },
  "cells": [
    {
      "cell_type": "code",
      "execution_count": 2,
      "metadata": {
        "colab": {
          "base_uri": "https://localhost:8080/"
        },
        "id": "Ws1aEbjhH7JA",
        "outputId": "e1de072d-71bd-4d1f-d73f-b810a28efa8f"
      },
      "outputs": [
        {
          "output_type": "stream",
          "name": "stdout",
          "text": [
            "K=1, Accuracy=0.9403\n",
            "K=2, Accuracy=0.9253\n",
            "K=3, Accuracy=0.9572\n",
            "K=4, Accuracy=0.9448\n",
            "K=5, Accuracy=0.9553\n",
            "K=6, Accuracy=0.9527\n",
            "K=7, Accuracy=0.9632\n",
            "K=8, Accuracy=0.9614\n",
            "K=9, Accuracy=0.9647\n",
            "K=10, Accuracy=0.9647\n",
            "\n",
            "Best Accuracy: 0.9647 at K=9\n"
          ]
        }
      ],
      "source": [
        "#@title TASK 1\n",
        "import pandas as pd\n",
        "from sklearn.neighbors import KNeighborsClassifier\n",
        "from sklearn.metrics import accuracy_score\n",
        "\n",
        "train = pd.read_csv(\"occupancy_train.txt\")\n",
        "test = pd.read_csv(\"occupancy_test.txt\")\n",
        "\n",
        "X_train = train[[\"Humidity\", \"Light\", \"HumidityRatio\"]]\n",
        "y_train = train[\"Occupancy\"]\n",
        "\n",
        "X_test = test[[\"Humidity\", \"Light\", \"HumidityRatio\"]]\n",
        "y_test = test[\"Occupancy\"]\n",
        "\n",
        "accuracies = []\n",
        "\n",
        "for k in range(1, 11):\n",
        "    knn = KNeighborsClassifier(n_neighbors=k)\n",
        "    knn.fit(X_train, y_train)\n",
        "    y_pred = knn.predict(X_test)\n",
        "    acc = accuracy_score(y_test, y_pred)\n",
        "    accuracies.append((k, acc))\n",
        "    print(f\"K={k}, Accuracy={acc:.4f}\")\n",
        "\n",
        "best_k, best_acc = max(accuracies, key=lambda x: x[1])\n",
        "print(f\"\\nBest Accuracy: {best_acc:.4f} at K={best_k}\")"
      ]
    },
    {
      "cell_type": "code",
      "source": [
        "#@title TASK 2\n",
        "\n",
        "import numpy as np\n",
        "from sklearn.datasets import load_iris\n",
        "from sklearn.model_selection import train_test_split\n",
        "from sklearn.metrics import confusion_matrix, accuracy_score\n",
        "\n",
        "# Chi-squared distance\n",
        "def chi_squared_distance(x, y):\n",
        "    return np.sum((x - y) ** 2 / (x + y + 1e-10))\n",
        "\n",
        "# Custom KNN\n",
        "class CustomKNN:\n",
        "    def __init__(self, k=3):\n",
        "        self.k = k\n",
        "\n",
        "    def fit(self, X_train, y_train):\n",
        "        self.X_train = X_train\n",
        "        self.y_train = y_train\n",
        "\n",
        "    def predict(self, X_test):\n",
        "        predictions = []\n",
        "        for test_point in X_test:\n",
        "            distances = [chi_squared_distance(test_point, x) for x in self.X_train]\n",
        "\n",
        "            k_indices = np.argsort(distances)[:self.k]\n",
        "            k_labels = [self.y_train[i] for i in k_indices]\n",
        "\n",
        "            predictions.append(max(set(k_labels), key=k_labels.count))\n",
        "        return np.array(predictions)\n",
        "\n",
        "iris = load_iris()\n",
        "X = iris.data\n",
        "y = iris.target\n",
        "\n",
        "X_train, X_test, y_train, y_test = train_test_split(X, y, test_size=0.2, random_state=42) #split 80/20\n",
        "\n",
        "knn = CustomKNN(k=3)\n",
        "knn.fit(X_train, y_train)\n",
        "y_pred = knn.predict(X_test)\n",
        "\n",
        "acc = accuracy_score(y_test, y_pred)\n",
        "cm = confusion_matrix(y_test, y_pred)\n",
        "\n",
        "print(\"Custom KNN Accuracy:\", acc)\n",
        "print(\"Confusion Matrix:\\n\", cm)\n"
      ],
      "metadata": {
        "colab": {
          "base_uri": "https://localhost:8080/"
        },
        "id": "2rOb6Z5eJZvB",
        "outputId": "4d6ccde7-6090-4f87-e40c-715a55280093"
      },
      "execution_count": 3,
      "outputs": [
        {
          "output_type": "stream",
          "name": "stdout",
          "text": [
            "Custom KNN Accuracy: 1.0\n",
            "Confusion Matrix:\n",
            " [[10  0  0]\n",
            " [ 0  9  0]\n",
            " [ 0  0 11]]\n"
          ]
        }
      ]
    }
  ]
}